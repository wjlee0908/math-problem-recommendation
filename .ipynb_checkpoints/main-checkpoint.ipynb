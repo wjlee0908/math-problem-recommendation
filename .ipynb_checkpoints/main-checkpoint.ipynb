{
 "cells": [
  {
   "cell_type": "code",
   "execution_count": 1,
   "id": "ca36b5a4",
   "metadata": {},
   "outputs": [],
   "source": [
    "from csv import reader;\n",
    "import numpy as np;\n",
    "import scipy.sparse.linalg as linalg;\n",
    "import pandas as pd;\n",
    "import json;"
   ]
  },
  {
   "cell_type": "markdown",
   "id": "d8663c04",
   "metadata": {},
   "source": [
    "### 추천 문제를 받을 학생의 문제풀이 데이터 입력"
   ]
  },
  {
   "cell_type": "code",
   "execution_count": 2,
   "id": "726a9246",
   "metadata": {},
   "outputs": [
    {
     "name": "stdout",
     "output_type": "stream",
     "text": [
      "학생 id를 입력하세요: A050001610\n",
      "문제 소단원 리스트를 입력하세요: [1353,1353,1353,1353,1353,1353,1353,314,315,315,315,314,315,315,1098,1104,1098,1098,1098,1104,1104,1101,1102,1102,1101,1102,1102,1102,1105,1105,1105,1105,1105,1105,1105,1106,1106,1106,1106,1106,1106,1106,1107,1107,1107,1107,1107,1107,1107,1468,1468,1468,1468,1468,1469,1469,1467,1467,1467,1467,1468,1469,1469,1470,1470,1468,1468,1468,1468,1470,1408,1408,1408,1408,1408,1408,1408,1410,1410,1410,1410,1410,1410,1410,1373,1373,1372,1373,1372,1373,1372,1375,1374,1374,1374,1375,1374,1374,1376,1376,1376,1376,1376,1376,1376,1379,1379,1379,1379,1379,1379,1379,1377,1377,1377,1377,1377,1377,1377,1378,1378,1378,1378,1378,1378,1378,1378,1379,1379,1377,1378,1377,1379,293,293,293,293,293,295,295,296,294,296,296,294,294,294,297,297,297,298,297,298,297 ]\n",
      "정오답 리스트를 입력하세요: [1,1,1,1,1,1,0,1,0,0,1,1,0,0,1,1,1,1,0,1,1,1,1,1,1,1,1,0,1,1,0,1,0,1,0,0,1,1,1,1,0,0,1,1,1,1,1,0,1,1,1,1,1,1,0,1,1,1,0,1,1,1,1,0,1,1,1,1,1,1,1,1,1,1,1,1,1,1,1,1,1,1,1,1,1,1,1,1,0,0,1,1,1,1,1,1,1,0,1,1,1,1,1,1,1,1,1,1,0,1,0,1,1,1,1,1,1,0,1,1,1,0,1,1,0,0,1,1,1,1,0,1,1,1,1,1,1,1,1,0,1,1,1,0,1,1,1,1,1,1,1,1,1,1 ]\n"
     ]
    },
    {
     "ename": "NameError",
     "evalue": "name 'json' is not defined",
     "output_type": "error",
     "traceback": [
      "\u001b[1;31m---------------------------------------------------------------------------\u001b[0m",
      "\u001b[1;31mNameError\u001b[0m                                 Traceback (most recent call last)",
      "Input \u001b[1;32mIn [2]\u001b[0m, in \u001b[0;36m<cell line: 5>\u001b[1;34m()\u001b[0m\n\u001b[0;32m      2\u001b[0m units \u001b[38;5;241m=\u001b[39m \u001b[38;5;28minput\u001b[39m(\u001b[38;5;124m\"\u001b[39m\u001b[38;5;124m문제 소단원 리스트를 입력하세요: \u001b[39m\u001b[38;5;124m\"\u001b[39m);\n\u001b[0;32m      3\u001b[0m results \u001b[38;5;241m=\u001b[39m \u001b[38;5;28minput\u001b[39m(\u001b[38;5;124m\"\u001b[39m\u001b[38;5;124m정오답 리스트를 입력하세요: \u001b[39m\u001b[38;5;124m\"\u001b[39m);\n\u001b[1;32m----> 5\u001b[0m test_solvings \u001b[38;5;241m=\u001b[39m {\u001b[38;5;124m\"\u001b[39m\u001b[38;5;124mstudent\u001b[39m\u001b[38;5;124m\"\u001b[39m: student, \u001b[38;5;124m\"\u001b[39m\u001b[38;5;124munits\u001b[39m\u001b[38;5;124m\"\u001b[39m: \u001b[43mjson\u001b[49m\u001b[38;5;241m.\u001b[39mloads(units), \u001b[38;5;124m\"\u001b[39m\u001b[38;5;124mresults\u001b[39m\u001b[38;5;124m\"\u001b[39m: json\u001b[38;5;241m.\u001b[39mloads(results)}\n\u001b[0;32m      6\u001b[0m \u001b[38;5;28mprint\u001b[39m(test_solvings)\n",
      "\u001b[1;31mNameError\u001b[0m: name 'json' is not defined"
     ]
    }
   ],
   "source": [
    "student = input(\"학생 id를 입력하세요: \");\n",
    "units = input(\"문제 소단원 리스트를 입력하세요: \");\n",
    "results = input(\"정오답 리스트를 입력하세요: \");\n",
    "\n",
    "test_solvings = {\"student\": student, \"units\": json.loads(units), \"results\": json.loads(results)}\n",
    "print(test_solvings)"
   ]
  },
  {
   "cell_type": "markdown",
   "id": "ece91746",
   "metadata": {},
   "source": [
    "### 소단원 정보 추출"
   ]
  },
  {
   "cell_type": "code",
   "execution_count": null,
   "id": "d2a08857",
   "metadata": {},
   "outputs": [],
   "source": [
    "import json;\n",
    "\n",
    "with open(\"./assets/math_unit_tree.json\", \"r\", encoding=\"UTF-8\") as json_file:\n",
    "    math_unit_tree = json.load(json_file);\n",
    "\n",
    "max_id = 0;\n",
    "\n",
    "for key, value in math_unit_tree.items():\n",
    "    max_id = max(value[\"fromConcept\"][\"id\"], value[\"toConcept\"][\"id\"], max_id);\n",
    "\n",
    "math_units = [None] * (max_id + 1)\n",
    "\n",
    "for key, value in math_unit_tree.items():\n",
    "    for conceptKey, conceptValue in value.items():\n",
    "        math_units[conceptValue[\"id\"]] = conceptValue[\"name\"]\n",
    "\n",
    "df_math_units = pd.DataFrame(math_units, columns=[\"name\"], dtype=np.str0);\n",
    "df_math_units.index.name= \"unitId\"\n",
    "df_math_units[\"name\"] = df_math_units[\"name\"].astype(str);\n",
    "\n",
    "# df_math_units.to_csv('./math_units.csv', sep=',');\n",
    "df_math_units = pd.read_csv('./math_units.csv', sep=',')\n",
    "df_math_units.drop(\"unitId\", inplace=True, axis=1)\n",
    "df_math_units.index.name= \"unitId\"\n",
    "\n",
    "print(df_math_units)"
   ]
  },
  {
   "cell_type": "markdown",
   "id": "861623c3",
   "metadata": {},
   "source": [
    "### 학습 데이터 - 문제풀이 데이터 파일 읽기\n",
    "### 사용자 입력 문제풀이 데이터 추가"
   ]
  },
  {
   "cell_type": "code",
   "execution_count": null,
   "id": "a50a84dc",
   "metadata": {},
   "outputs": [],
   "source": [
    "solvings = [];\n",
    "\n",
    "row_cnt = 0;\n",
    "\n",
    "# open file in read mode\n",
    "with open(\"./assets/solving-train.csv\", 'r') as read_obj:\n",
    "    # pass the file object to reader() to get the reader object\n",
    "    csv_reader = reader(read_obj)\n",
    "    # Iterate over each row in the csv using reader object\n",
    "    for row in csv_reader:\n",
    "        # row variable is a list that represents a row in csv\n",
    "        if row_cnt % 3 == 0:\n",
    "                student = row[0];\n",
    "        elif row_cnt % 3 == 1:\n",
    "                units = list(map(int, row));\n",
    "        elif row_cnt % 3 == 2:\n",
    "                results = list(map(int, row));\n",
    "                solvings.append({\"student\": student, \"units\": units, \"results\": results });\n",
    "        row_cnt += 1;\n",
    "\n",
    "solvings.append(test_solvings)"
   ]
  },
  {
   "cell_type": "markdown",
   "id": "fa24cc0a",
   "metadata": {},
   "source": [
    "### 사용자의 단원별 정답률 행렬로 변환"
   ]
  },
  {
   "cell_type": "code",
   "execution_count": null,
   "id": "1b30d30c",
   "metadata": {},
   "outputs": [],
   "source": [
    "max_unit_idx = 0;\n",
    "\n",
    "for solving in solvings:\n",
    "    max_unit_idx = max(solving[\"units\"] + [max_unit_idx]);\n",
    "\n",
    "# row: students\n",
    "# column: problems\n",
    "correct_rate_table = [];\n",
    "\n",
    "for solving in solvings:\n",
    "    corrects = [0] * (max_unit_idx + 1);\n",
    "    num_problems = [0] * (max_unit_idx + 1);\n",
    "    \n",
    "    for result_idx in range(len(solving[\"results\"])):\n",
    "        unit = solving[\"units\"][result_idx];\n",
    "        corrects[unit] += solving[\"results\"][result_idx];\n",
    "        num_problems[unit] += 1; \n",
    "        \n",
    "    correct_rates = list(map(lambda i: 0 if num_problems[i] == 0 else corrects[i] / num_problems[i] ,range(len(corrects))))\n",
    "    correct_rate_table.append(correct_rates);\n",
    "\n",
    "students = list(map(lambda solving: solving[\"student\"], solvings))\n",
    "\n",
    "df_user_unit_results = pd.DataFrame(correct_rate_table, index=students);\n",
    "df_user_unit_results.index.name=\"userId\"\n",
    "df_user_unit_results.columns.name=\"unitId\"\n",
    "df_user_unit_results.head()\n",
    "\n",
    "matrix = df_user_unit_results.values\n",
    "\n",
    "print(matrix)"
   ]
  },
  {
   "cell_type": "markdown",
   "id": "54a7106a",
   "metadata": {},
   "source": [
    "### SVD 행렬분해"
   ]
  },
  {
   "cell_type": "code",
   "execution_count": null,
   "id": "cc66d212",
   "metadata": {},
   "outputs": [],
   "source": [
    "U, sigma, Vt = linalg.svds(matrix, k=12);\n",
    "\n",
    "print(U.shape)\n",
    "print(sigma.shape)\n",
    "print(Vt.shape)\n",
    "\n",
    "sigma = np.diag(sigma);\n",
    "print(sigma.shape)"
   ]
  },
  {
   "cell_type": "markdown",
   "id": "ff42b98f",
   "metadata": {},
   "source": [
    "### 예측행렬 생성"
   ]
  },
  {
   "cell_type": "code",
   "execution_count": null,
   "id": "069f5bca",
   "metadata": {},
   "outputs": [],
   "source": [
    "svd_predicated_ratings = np.dot(np.dot(U,sigma), Vt)\n",
    "df_svd_predictions = pd.DataFrame(svd_predicated_ratings, index=students)\n",
    "\n",
    "print(df_svd_predictions)"
   ]
  },
  {
   "cell_type": "markdown",
   "id": "96d90f94",
   "metadata": {},
   "source": [
    "### 정렬하여 예측행렬에서 추천 단원 도출\n",
    "사용자가 풀었던 단원은 추천에서 제외"
   ]
  },
  {
   "cell_type": "code",
   "execution_count": null,
   "id": "a8e15733",
   "metadata": {},
   "outputs": [],
   "source": [
    "def recommended_units(svd_prediction, user_id, origin_units_df, origin_ratings_df, num_recommendations=5):\n",
    "    sorted_user_predictions = svd_prediction.loc[user_id].sort_values(ascending=False)\n",
    "    sorted_user_predictions.index.name = \"unitId\"\n",
    "    sorted_user_predictions.name = \"correctRate\"\n",
    "\n",
    "    user_data = origin_ratings_df.loc[user_id]\n",
    "    user_history = user_data.to_frame(name=\"correctRate\").merge(origin_units_df, on = \"unitId\").sort_values([\"correctRate\"],ascending=False);\n",
    "\n",
    "    recommendations = origin_units_df[~origin_units_df.isin(user_history.index)]\n",
    "    recommendations = recommendations.merge(pd.DataFrame(sorted_user_predictions).reset_index(), on=\"unitId\")\n",
    "    recommendations = recommendations.rename(columns={\"correctRate\": \"Predictions\"}).sort_values(\"Predictions\", ascending=False)\n",
    "\n",
    "    return user_history, recommendations\n",
    "\n"
   ]
  },
  {
   "cell_type": "markdown",
   "id": "598a6bf9",
   "metadata": {},
   "source": [
    "### 단원 추천 결과"
   ]
  },
  {
   "cell_type": "code",
   "execution_count": null,
   "id": "f2f22045",
   "metadata": {},
   "outputs": [],
   "source": [
    "already_rated, predictions = recommended_units(df_svd_predictions, test_solvings[\"student\"], df_math_units, df_user_unit_results, 5);\n",
    "\n",
    "print(predictions.head(5));"
   ]
  }
 ],
 "metadata": {
  "interpreter": {
   "hash": "57bc2b6ce032b5f0e93daa91901b7ea38a856826ef43aa9e95b6d3999f5310df"
  },
  "kernelspec": {
   "display_name": "Python 3 (ipykernel)",
   "language": "python",
   "name": "python3"
  },
  "language_info": {
   "codemirror_mode": {
    "name": "ipython",
    "version": 3
   },
   "file_extension": ".py",
   "mimetype": "text/x-python",
   "name": "python",
   "nbconvert_exporter": "python",
   "pygments_lexer": "ipython3",
   "version": "3.9.12"
  }
 },
 "nbformat": 4,
 "nbformat_minor": 5
}

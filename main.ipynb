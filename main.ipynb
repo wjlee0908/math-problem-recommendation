{
 "cells": [
  {
   "cell_type": "code",
   "execution_count": 1,
   "id": "ca36b5a4",
   "metadata": {},
   "outputs": [],
   "source": [
    "from csv import reader;\n",
    "import numpy as np;\n",
    "import scipy.sparse.linalg as linalg;\n",
    "import pandas as pd;\n",
    "import json;"
   ]
  },
  {
   "cell_type": "markdown",
   "id": "d8663c04",
   "metadata": {},
   "source": [
    "### 추천 문제를 받을 학생의 문제풀이 데이터 입력"
   ]
  },
  {
   "cell_type": "code",
   "execution_count": 2,
   "id": "726a9246",
   "metadata": {},
   "outputs": [
    {
     "name": "stdout",
     "output_type": "stream",
     "text": [
      "학생 id를 입력하세요: A050001610\n",
      "문제 소단원 리스트를 입력하세요: [1353,1353,1353,1353,1353,1353,1353,314,315,315,315,314,315,315,1098,1104,1098,1098,1098,1104,1104,1101,1102,1102,1101,1102,1102,1102,1105,1105,1105,1105,1105,1105,1105,1106,1106,1106,1106,1106,1106,1106,1107,1107,1107,1107,1107,1107,1107,1468,1468,1468,1468,1468,1469,1469,1467,1467,1467,1467,1468,1469,1469,1470,1470,1468,1468,1468,1468,1470,1408,1408,1408,1408,1408,1408,1408,1410,1410,1410,1410,1410,1410,1410,1373,1373,1372,1373,1372,1373,1372,1375,1374,1374,1374,1375,1374,1374,1376,1376,1376,1376,1376,1376,1376,1379,1379,1379,1379,1379,1379,1379,1377,1377,1377,1377,1377,1377,1377,1378,1378,1378,1378,1378,1378,1378,1378,1379,1379,1377,1378,1377,1379,293,293,293,293,293,295,295,296,294,296,296,294,294,294,297,297,297,298,297,298,297 ]\n",
      "정오답 리스트를 입력하세요: [1,1,1,1,1,1,0,1,0,0,1,1,0,0,1,1,1,1,0,1,1,1,1,1,1,1,1,0,1,1,0,1,0,1,0,0,1,1,1,1,0,0,1,1,1,1,1,0,1,1,1,1,1,1,0,1,1,1,0,1,1,1,1,0,1,1,1,1,1,1,1,1,1,1,1,1,1,1,1,1,1,1,1,1,1,1,1,1,0,0,1,1,1,1,1,1,1,0,1,1,1,1,1,1,1,1,1,1,0,1,0,1,1,1,1,1,1,0,1,1,1,0,1,1,0,0,1,1,1,1,0,1,1,1,1,1,1,1,1,0,1,1,1,0,1,1,1,1,1,1,1,1,1,1 ]\n",
      "{'student': 'A050001610', 'units': [1353, 1353, 1353, 1353, 1353, 1353, 1353, 314, 315, 315, 315, 314, 315, 315, 1098, 1104, 1098, 1098, 1098, 1104, 1104, 1101, 1102, 1102, 1101, 1102, 1102, 1102, 1105, 1105, 1105, 1105, 1105, 1105, 1105, 1106, 1106, 1106, 1106, 1106, 1106, 1106, 1107, 1107, 1107, 1107, 1107, 1107, 1107, 1468, 1468, 1468, 1468, 1468, 1469, 1469, 1467, 1467, 1467, 1467, 1468, 1469, 1469, 1470, 1470, 1468, 1468, 1468, 1468, 1470, 1408, 1408, 1408, 1408, 1408, 1408, 1408, 1410, 1410, 1410, 1410, 1410, 1410, 1410, 1373, 1373, 1372, 1373, 1372, 1373, 1372, 1375, 1374, 1374, 1374, 1375, 1374, 1374, 1376, 1376, 1376, 1376, 1376, 1376, 1376, 1379, 1379, 1379, 1379, 1379, 1379, 1379, 1377, 1377, 1377, 1377, 1377, 1377, 1377, 1378, 1378, 1378, 1378, 1378, 1378, 1378, 1378, 1379, 1379, 1377, 1378, 1377, 1379, 293, 293, 293, 293, 293, 295, 295, 296, 294, 296, 296, 294, 294, 294, 297, 297, 297, 298, 297, 298, 297], 'results': [1, 1, 1, 1, 1, 1, 0, 1, 0, 0, 1, 1, 0, 0, 1, 1, 1, 1, 0, 1, 1, 1, 1, 1, 1, 1, 1, 0, 1, 1, 0, 1, 0, 1, 0, 0, 1, 1, 1, 1, 0, 0, 1, 1, 1, 1, 1, 0, 1, 1, 1, 1, 1, 1, 0, 1, 1, 1, 0, 1, 1, 1, 1, 0, 1, 1, 1, 1, 1, 1, 1, 1, 1, 1, 1, 1, 1, 1, 1, 1, 1, 1, 1, 1, 1, 1, 1, 1, 0, 0, 1, 1, 1, 1, 1, 1, 1, 0, 1, 1, 1, 1, 1, 1, 1, 1, 1, 1, 0, 1, 0, 1, 1, 1, 1, 1, 1, 0, 1, 1, 1, 0, 1, 1, 0, 0, 1, 1, 1, 1, 0, 1, 1, 1, 1, 1, 1, 1, 1, 0, 1, 1, 1, 0, 1, 1, 1, 1, 1, 1, 1, 1, 1, 1]}\n"
     ]
    }
   ],
   "source": [
    "student = input(\"학생 id를 입력하세요: \");\n",
    "units = input(\"문제 소단원 리스트를 입력하세요: \");\n",
    "results = input(\"정오답 리스트를 입력하세요: \");\n",
    "\n",
    "test_solvings = {\"student\": student, \"units\": json.loads(units), \"results\": json.loads(results)}\n",
    "print(test_solvings)"
   ]
  },
  {
   "cell_type": "markdown",
   "id": "ece91746",
   "metadata": {},
   "source": [
    "### 소단원 정보 추출"
   ]
  },
  {
   "cell_type": "code",
   "execution_count": 3,
   "id": "d2a08857",
   "metadata": {},
   "outputs": [
    {
     "name": "stdout",
     "output_type": "stream",
     "text": [
      "                    name\n",
      "unitId                  \n",
      "0                   None\n",
      "1                   None\n",
      "2                   None\n",
      "3       지수가 자연수일 때의 지수법칙\n",
      "4                  거듭제곱근\n",
      "...                  ...\n",
      "11267               None\n",
      "11268               None\n",
      "11269    천만 단위까지의 수 알아보기\n",
      "11270    천억 단위까지의 수 알아보기\n",
      "11271    천조 단위까지의 수 알아보기\n",
      "\n",
      "[11272 rows x 1 columns]\n"
     ]
    }
   ],
   "source": [
    "import json;\n",
    "\n",
    "with open(\"./assets/math_unit_tree.json\", \"r\", encoding=\"UTF-8\") as json_file:\n",
    "    math_unit_tree = json.load(json_file);\n",
    "\n",
    "max_id = 0;\n",
    "\n",
    "for key, value in math_unit_tree.items():\n",
    "    max_id = max(value[\"fromConcept\"][\"id\"], value[\"toConcept\"][\"id\"], max_id);\n",
    "\n",
    "math_units = [None] * (max_id + 1)\n",
    "\n",
    "for key, value in math_unit_tree.items():\n",
    "    for conceptKey, conceptValue in value.items():\n",
    "        math_units[conceptValue[\"id\"]] = conceptValue[\"name\"]\n",
    "\n",
    "df_math_units = pd.DataFrame(math_units, columns=[\"name\"], dtype=np.str0);\n",
    "df_math_units.index.name= \"unitId\"\n",
    "df_math_units[\"name\"] = df_math_units[\"name\"].astype(str);\n",
    "\n",
    "# df_math_units.to_csv('./math_units.csv', sep=',');\n",
    "df_math_units = pd.read_csv('./math_units.csv', sep=',')\n",
    "df_math_units.drop(\"unitId\", inplace=True, axis=1)\n",
    "df_math_units.index.name= \"unitId\"\n",
    "\n",
    "print(df_math_units)"
   ]
  },
  {
   "cell_type": "markdown",
   "id": "861623c3",
   "metadata": {},
   "source": [
    "### 학습 데이터 - 문제풀이 데이터 파일 읽기\n",
    "### 사용자 입력 문제풀이 데이터 추가"
   ]
  },
  {
   "cell_type": "code",
   "execution_count": 4,
   "id": "a50a84dc",
   "metadata": {},
   "outputs": [],
   "source": [
    "solvings = [];\n",
    "\n",
    "row_cnt = 0;\n",
    "\n",
    "# open file in read mode\n",
    "with open(\"./assets/solving-train.csv\", 'r') as read_obj:\n",
    "    # pass the file object to reader() to get the reader object\n",
    "    csv_reader = reader(read_obj)\n",
    "    # Iterate over each row in the csv using reader object\n",
    "    for row in csv_reader:\n",
    "        # row variable is a list that represents a row in csv\n",
    "        if row_cnt % 3 == 0:\n",
    "                student = row[0];\n",
    "        elif row_cnt % 3 == 1:\n",
    "                units = list(map(int, row));\n",
    "        elif row_cnt % 3 == 2:\n",
    "                results = list(map(int, row));\n",
    "                solvings.append({\"student\": student, \"units\": units, \"results\": results });\n",
    "        row_cnt += 1;\n",
    "\n",
    "solvings.append(test_solvings)"
   ]
  },
  {
   "cell_type": "markdown",
   "id": "fa24cc0a",
   "metadata": {},
   "source": [
    "### 사용자의 단원별 정답률 행렬로 변환"
   ]
  },
  {
   "cell_type": "code",
   "execution_count": 5,
   "id": "1b30d30c",
   "metadata": {},
   "outputs": [
    {
     "name": "stdout",
     "output_type": "stream",
     "text": [
      "[[0.         0.         0.         ... 0.         0.         0.        ]\n",
      " [0.         0.         0.         ... 0.         0.         0.        ]\n",
      " [0.         0.         0.         ... 0.         0.         0.        ]\n",
      " ...\n",
      " [0.         0.         0.66666667 ... 0.         0.         0.        ]\n",
      " [0.         0.         0.         ... 0.         0.         0.        ]\n",
      " [0.         0.         0.         ... 0.         0.         0.        ]]\n"
     ]
    }
   ],
   "source": [
    "max_unit_idx = 0;\n",
    "\n",
    "for solving in solvings:\n",
    "    max_unit_idx = max(solving[\"units\"] + [max_unit_idx]);\n",
    "\n",
    "# row: students\n",
    "# column: problems\n",
    "correct_rate_table = [];\n",
    "\n",
    "for solving in solvings:\n",
    "    corrects = [0] * (max_unit_idx + 1);\n",
    "    num_problems = [0] * (max_unit_idx + 1);\n",
    "    \n",
    "    for result_idx in range(len(solving[\"results\"])):\n",
    "        unit = solving[\"units\"][result_idx];\n",
    "        corrects[unit] += solving[\"results\"][result_idx];\n",
    "        num_problems[unit] += 1; \n",
    "        \n",
    "    correct_rates = list(map(lambda i: 0 if num_problems[i] == 0 else corrects[i] / num_problems[i] ,range(len(corrects))))\n",
    "    correct_rate_table.append(correct_rates);\n",
    "\n",
    "students = list(map(lambda solving: solving[\"student\"], solvings))\n",
    "\n",
    "df_user_unit_results = pd.DataFrame(correct_rate_table, index=students);\n",
    "df_user_unit_results.index.name=\"userId\"\n",
    "df_user_unit_results.columns.name=\"unitId\"\n",
    "df_user_unit_results.head()\n",
    "\n",
    "matrix = df_user_unit_results.values\n",
    "\n",
    "print(matrix)"
   ]
  },
  {
   "cell_type": "markdown",
   "id": "54a7106a",
   "metadata": {},
   "source": [
    "### SVD 행렬분해"
   ]
  },
  {
   "cell_type": "code",
   "execution_count": 6,
   "id": "cc66d212",
   "metadata": {},
   "outputs": [
    {
     "name": "stdout",
     "output_type": "stream",
     "text": [
      "(14879, 12)\n",
      "(12,)\n",
      "(12, 1859)\n",
      "(12, 12)\n"
     ]
    }
   ],
   "source": [
    "U, sigma, Vt = linalg.svds(matrix, k=12);\n",
    "\n",
    "print(U.shape)\n",
    "print(sigma.shape)\n",
    "print(Vt.shape)\n",
    "\n",
    "sigma = np.diag(sigma);\n",
    "print(sigma.shape)"
   ]
  },
  {
   "cell_type": "markdown",
   "id": "ff42b98f",
   "metadata": {},
   "source": [
    "### 예측행렬 생성"
   ]
  },
  {
   "cell_type": "code",
   "execution_count": 7,
   "id": "069f5bca",
   "metadata": {},
   "outputs": [
    {
     "name": "stdout",
     "output_type": "stream",
     "text": [
      "                    0             1             2             3     \\\n",
      "A010002020 -6.199803e-19  1.954936e-02  1.911582e-02  2.051996e-02   \n",
      "A010000731 -6.144881e-18  1.937618e-01  1.894648e-01  2.033818e-01   \n",
      "A020002429  1.485844e-18 -7.315189e-18 -1.464968e-17 -9.185017e-18   \n",
      "A060001077  8.291334e-19  1.794114e-17  1.487521e-17  1.536650e-17   \n",
      "A070001916 -9.765709e-19 -2.885801e-17 -1.011054e-17 -5.987852e-17   \n",
      "...                  ...           ...           ...           ...   \n",
      "A030001718 -2.911673e-18 -4.156887e-17 -1.278821e-16 -2.242818e-17   \n",
      "A050000647 -1.859227e-18 -6.436722e-17 -2.466894e-17 -6.073645e-17   \n",
      "A010001379 -1.479390e-17  4.664848e-01  4.561395e-01  4.896451e-01   \n",
      "A030002321 -2.363193e-18 -4.149432e-17 -1.136987e-16 -2.640164e-17   \n",
      "A050001610 -3.444597e-18 -1.366461e-16 -6.271123e-17 -1.307829e-16   \n",
      "\n",
      "                    4             5             6             7     \\\n",
      "A010002020  1.758672e-02  2.016702e-02 -1.302879e-18  1.939181e-02   \n",
      "A010000731  1.743093e-01  1.998837e-01 -1.291338e-17  1.922002e-01   \n",
      "A020002429 -1.332714e-17 -1.355858e-17  3.340848e-18 -7.957486e-18   \n",
      "A060001077  1.801651e-17  2.154800e-17  1.710000e-18  2.241940e-17   \n",
      "A070001916  1.246968e-17 -2.233871e-17 -3.692208e-18 -4.966180e-17   \n",
      "...                  ...           ...           ...           ...   \n",
      "A030001718 -5.962396e-17 -2.194253e-16 -7.212255e-18  3.178396e-17   \n",
      "A050000647 -5.444763e-17 -5.591563e-17 -4.411747e-18 -6.221516e-17   \n",
      "A010001379  4.196525e-01  4.812233e-01 -3.108916e-17  4.627252e-01   \n",
      "A030002321 -5.752799e-17 -1.893169e-16 -5.824734e-18  1.953152e-17   \n",
      "A050001610 -1.165219e-16 -1.215373e-16 -8.173660e-18 -1.325188e-16   \n",
      "\n",
      "                    8             9     ...          1849          1850  \\\n",
      "A010002020  1.914271e-02  1.958866e-02  ...  2.972782e-18  2.056656e-18   \n",
      "A010000731  1.897313e-01  1.941513e-01  ...  2.643442e-17  1.732724e-17   \n",
      "A020002429 -9.086405e-18 -3.946987e-18  ... -1.054638e-17 -6.203657e-18   \n",
      "A060001077  1.691149e-17  1.444901e-17  ... -7.427312e-18 -7.921521e-18   \n",
      "A070001916 -1.367630e-17 -3.849403e-17  ...  1.219195e-01  1.227733e-01   \n",
      "...                  ...           ...  ...           ...           ...   \n",
      "A030001718 -6.997656e-17 -9.545493e-17  ...  2.973363e-17  1.152473e-16   \n",
      "A050000647 -4.192451e-17 -3.112749e-17  ... -1.519896e-16 -1.690003e-16   \n",
      "A010001379  4.567813e-01  4.674224e-01  ...  2.506968e-17  2.881714e-18   \n",
      "A030002321 -6.579946e-17 -8.627289e-17  ...  1.905906e-17  8.717453e-17   \n",
      "A050001610 -9.470462e-17 -7.509770e-17  ... -2.351142e-16 -2.663030e-16   \n",
      "\n",
      "                    1851          1852          1853          1854  \\\n",
      "A010002020 -2.122682e-17  8.550837e-19 -1.820258e-17 -2.162117e-17   \n",
      "A010000731 -7.543628e-17  8.475088e-18 -5.663284e-17 -6.960709e-17   \n",
      "A020002429 -3.103631e-17 -2.278914e-18 -2.459086e-17 -3.093685e-17   \n",
      "A060001077 -5.397162e-18 -1.226742e-18 -8.515819e-18 -8.097845e-18   \n",
      "A070001916  2.375340e-03  1.194922e-18  2.266268e-03  2.559863e-03   \n",
      "...                  ...           ...           ...           ...   \n",
      "A030001718 -1.756945e-16  5.382273e-18 -9.089143e-17 -1.550572e-16   \n",
      "A050000647  4.886279e-17  2.029053e-18  7.311528e-17  5.531273e-17   \n",
      "A010001379 -3.631948e-16  2.040391e-17 -3.029250e-16 -3.622680e-16   \n",
      "A030002321 -1.685214e-16  4.362026e-18 -9.693044e-17 -1.539224e-16   \n",
      "A050001610  5.568819e-17  3.759235e-18  1.035377e-16  6.512896e-17   \n",
      "\n",
      "                    1855          1856          1857          1858  \n",
      "A010002020 -1.703278e-17 -1.616235e-17 -1.715718e-17 -1.790903e-17  \n",
      "A010000731 -5.789725e-17 -5.232710e-17 -5.254445e-17 -6.017803e-17  \n",
      "A020002429 -2.050341e-17 -2.769567e-17 -2.140819e-17 -1.880805e-17  \n",
      "A060001077 -7.221979e-18 -6.440558e-18 -5.389281e-18 -6.544306e-18  \n",
      "A070001916  2.026403e-03  1.965236e-03  2.101525e-03  2.000421e-03  \n",
      "...                  ...           ...           ...           ...  \n",
      "A030001718 -8.966432e-17 -1.390420e-16 -1.098239e-16 -1.360332e-16  \n",
      "A050000647  4.923984e-17  5.688270e-17  7.876870e-17  7.449472e-17  \n",
      "A010001379 -2.886625e-16 -2.711363e-16 -2.846226e-16 -3.027219e-16  \n",
      "A030002321 -9.386707e-17 -1.342671e-16 -1.096737e-16 -1.323617e-16  \n",
      "A050001610  6.261820e-17  7.756463e-17  1.156109e-16  1.077027e-16  \n",
      "\n",
      "[14879 rows x 1859 columns]\n"
     ]
    }
   ],
   "source": [
    "svd_predicated_ratings = np.dot(np.dot(U,sigma), Vt)\n",
    "df_svd_predictions = pd.DataFrame(svd_predicated_ratings, index=students)\n",
    "\n",
    "print(df_svd_predictions)"
   ]
  },
  {
   "cell_type": "markdown",
   "id": "96d90f94",
   "metadata": {},
   "source": [
    "### 정렬하여 예측행렬에서 추천 단원 도출\n",
    "사용자가 풀었던 단원은 추천에서 제외"
   ]
  },
  {
   "cell_type": "code",
   "execution_count": 8,
   "id": "a8e15733",
   "metadata": {},
   "outputs": [],
   "source": [
    "def recommended_units(svd_prediction, user_id, origin_units_df, origin_ratings_df, num_recommendations=5):\n",
    "    sorted_user_predictions = svd_prediction.loc[user_id].sort_values(ascending=False)\n",
    "    sorted_user_predictions.index.name = \"unitId\"\n",
    "    sorted_user_predictions.name = \"correctRate\"\n",
    "\n",
    "    user_data = origin_ratings_df.loc[user_id]\n",
    "    user_history = user_data.to_frame(name=\"correctRate\").merge(origin_units_df, on = \"unitId\").sort_values([\"correctRate\"],ascending=False);\n",
    "\n",
    "    recommendations = origin_units_df[~origin_units_df.isin(user_history.index)]\n",
    "    recommendations = recommendations.merge(pd.DataFrame(sorted_user_predictions).reset_index(), on=\"unitId\")\n",
    "    recommendations = recommendations.rename(columns={\"correctRate\": \"Predictions\"}).sort_values(\"Predictions\", ascending=False)\n",
    "\n",
    "    return user_history, recommendations\n",
    "\n"
   ]
  },
  {
   "cell_type": "markdown",
   "id": "598a6bf9",
   "metadata": {},
   "source": [
    "### 단원 추천 결과"
   ]
  },
  {
   "cell_type": "code",
   "execution_count": 9,
   "id": "f2f22045",
   "metadata": {},
   "outputs": [
    {
     "name": "stdout",
     "output_type": "stream",
     "text": [
      "      unitId              name  Predictions\n",
      "1375    1375               정적분     0.338199\n",
      "1353    1353             치환적분법     0.317584\n",
      "1372    1372     부정적분과 도함수의 관계     0.317528\n",
      "1373    1373  함수 $y=x^n$의 부정적분     0.317340\n",
      "1377    1377         정적분과 무한급수     0.311553\n"
     ]
    }
   ],
   "source": [
    "already_rated, predictions = recommended_units(df_svd_predictions, test_solvings[\"student\"], df_math_units, df_user_unit_results, 5);\n",
    "\n",
    "print(predictions.head(5));"
   ]
  },
  {
   "cell_type": "code",
   "execution_count": null,
   "id": "3d9a0790",
   "metadata": {},
   "outputs": [],
   "source": []
  }
 ],
 "metadata": {
  "interpreter": {
   "hash": "57bc2b6ce032b5f0e93daa91901b7ea38a856826ef43aa9e95b6d3999f5310df"
  },
  "kernelspec": {
   "display_name": "Python 3 (ipykernel)",
   "language": "python",
   "name": "python3"
  },
  "language_info": {
   "codemirror_mode": {
    "name": "ipython",
    "version": 3
   },
   "file_extension": ".py",
   "mimetype": "text/x-python",
   "name": "python",
   "nbconvert_exporter": "python",
   "pygments_lexer": "ipython3",
   "version": "3.9.12"
  }
 },
 "nbformat": 4,
 "nbformat_minor": 5
}
